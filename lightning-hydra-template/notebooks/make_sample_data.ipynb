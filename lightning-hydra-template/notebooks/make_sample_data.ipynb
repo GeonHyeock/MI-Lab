{
 "cells": [
  {
   "cell_type": "code",
   "execution_count": null,
   "metadata": {},
   "outputs": [],
   "source": [
    "import json\n",
    "import random\n",
    "\n",
    "data_path = \"../data/annotations/\"\n",
    "sample_size = 500"
   ]
  },
  {
   "cell_type": "code",
   "execution_count": null,
   "metadata": {},
   "outputs": [],
   "source": [
    "for data_type in [\"train\",\"val\"]:\n",
    "    with open(data_path + f'instances_{data_type}2017.json', 'r') as f:\n",
    "        json_data = json.load(f)\n",
    "\n",
    "    new_images = random.sample(json_data[\"images\"],sample_size)\n",
    "    new_images_id = [image[\"id\"] for  image in new_images]\n",
    "    new_annotations = [ann for ann in json_data[\"annotations\"] if ann[\"image_id\"]]\n",
    "\n",
    "    json_data[\"images\"] = new_images\n",
    "    json_data[\"annotations\"] = new_annotations\n",
    "    \n",
    "    with open(data_path + f\"{data_type}_test.json\", 'w', encoding='utf-8') as file:\n",
    "        json.dump(json_data, file)"
   ]
  },
  {
   "cell_type": "code",
   "execution_count": null,
   "metadata": {},
   "outputs": [],
   "source": []
  }
 ],
 "metadata": {
  "kernelspec": {
   "display_name": "gh",
   "language": "python",
   "name": "python3"
  },
  "language_info": {
   "codemirror_mode": {
    "name": "ipython",
    "version": 3
   },
   "file_extension": ".py",
   "mimetype": "text/x-python",
   "name": "python",
   "nbconvert_exporter": "python",
   "pygments_lexer": "ipython3",
   "version": "3.9.16"
  },
  "orig_nbformat": 4
 },
 "nbformat": 4,
 "nbformat_minor": 2
}
